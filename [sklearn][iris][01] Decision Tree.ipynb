{
 "cells": [
  {
   "cell_type": "code",
   "execution_count": 1,
   "metadata": {},
   "outputs": [],
   "source": [
    "# 讀取資料 (以iris為例) - Classification\n",
    "\n",
    "from sklearn.datasets import load_iris\n",
    "iris = load_iris()\n",
    "\n",
    "# iris"
   ]
  },
  {
   "cell_type": "code",
   "execution_count": 2,
   "metadata": {},
   "outputs": [],
   "source": [
    "# 用胖達(Pandas)畫表格\n",
    "\n",
    "import pandas as pd\n",
    "\n",
    "# [0] = 資料陣列 = x軸\n",
    "# [1] = 標題列 = x軸的標題\n",
    "\n",
    "df = pd.DataFrame(iris[\"data\"], columns=iris[\"feature_names\"])\n",
    "\n",
    "# 添加最後 直列  = [n-1] = 預測目標 (target)\n",
    "\n",
    "df[\"target\"] = iris[\"target\"]\n",
    "\n",
    "# 存檔成csv\n",
    "df.to_csv(\"iris.csv\", encoding=\"UTF8\", index = False)\n",
    "\n",
    "# 秀圖 (不想打print()的話，一定要在最後一行)\n",
    "# df"
   ]
  },
  {
   "cell_type": "code",
   "execution_count": 3,
   "metadata": {},
   "outputs": [],
   "source": [
    "# 用 matplotlib與seaborn視覺化 > 在這裡主要是畫(相關係數 r^2)的圖\n",
    "\n",
    "import matplotlib.pyplot as plt\n",
    "import seaborn as sns\n",
    "\n",
    "# 不想一直打 plt.show()，所以打\n",
    "%matplotlib inline"
   ]
  },
  {
   "cell_type": "code",
   "execution_count": 4,
   "metadata": {},
   "outputs": [],
   "source": [
    "# 畫相關係數的圖\n",
    "\n",
    "# df = pd.DataFrame(iris[\"data\"], columns=iris[\"feature_names\"])\n",
    "\n",
    "# 普通的圖\n",
    "# df.corr()\n",
    "\n",
    "# 好看的圖\n",
    "# plt = 改圖表的大小(要放sns上面)\n",
    "# sns = astype(\"float\") = 決策樹都是浮點數運算，轉一下避免出包。\n",
    "#       cmap = 改圖格的填色\n",
    "#       annot = 圖格上面加上數值\n",
    "\n",
    "# plt.figure(figsize=(14, 8))\n",
    "# sns.heatmap(df.astype(\"float\").corr(), cmap=\"YlGn\", annot=True)\n"
   ]
  },
  {
   "cell_type": "code",
   "execution_count": 5,
   "metadata": {},
   "outputs": [],
   "source": [
    "from sklearn.model_selection import train_test_split\n",
    "\n",
    "# 抽選原始資料 > 形成 訓練資料 跟 驗證資料\n",
    "# train_test_split是交叉驗證中常用的函式，功能是從樣本中隨機的按比例選取train data和test data\n",
    "\n",
    "# df = pd.DataFrame(iris[\"data\"], columns=iris[\"feature_names\"])\n",
    "\n",
    "# drop = 把某個欄位抽調\n",
    "#        axis = 0 = 找到目標後 橫的排 抽調\n",
    "#        axis = 1 = 找到目標後 直的排 抽調\n",
    "\n",
    "df01 = df.drop([\"target\"], axis = 1)\n",
    "# df01\n",
    "\n",
    "# train_data, test_data = train_test_split(data, test_size=0.4)\n",
    "# train = 訓練資料, test = 驗證資料\n",
    "\n",
    "# x_train, x_test, y_train, y_test = \n",
    "# train_test_split(train_data, train_target, test_size=0.4)\n",
    "# \n",
    "# train = 90:10, test = 90:10 (四個參數會丟出來)\n",
    "\n",
    "a, b, c, d = train_test_split(df01, df[\"target\"], test_size = 0.1) \n",
    "# a = 訓練的90% = x_train\n",
    "# b = 訓練的10% = x_test\n",
    "# c = 驗證的90% = y_train\n",
    "# d = 驗證的10% = y_test"
   ]
  },
  {
   "cell_type": "code",
   "execution_count": 6,
   "metadata": {},
   "outputs": [
    {
     "data": {
      "text/plain": [
       "DecisionTreeClassifier(ccp_alpha=0.0, class_weight=None, criterion='gini',\n",
       "                       max_depth=3, max_features=None, max_leaf_nodes=None,\n",
       "                       min_impurity_decrease=0.0, min_impurity_split=None,\n",
       "                       min_samples_leaf=1, min_samples_split=2,\n",
       "                       min_weight_fraction_leaf=0.0, presort='deprecated',\n",
       "                       random_state=None, splitter='best')"
      ]
     },
     "execution_count": 6,
     "metadata": {},
     "output_type": "execute_result"
    }
   ],
   "source": [
    "# 把決策樹創造出來\n",
    "# max_depth = 控制樹的深度 \n",
    "\n",
    "from sklearn.tree import DecisionTreeClassifier\n",
    "clf = DecisionTreeClassifier(max_depth = 3)\n",
    "\n",
    "# fit = 擬合\n",
    "# 把 90%的訓練(x_train) 與 90%的目標(y_train) 進行擬合\n",
    "\n",
    "clf.fit(a, c)"
   ]
  },
  {
   "cell_type": "code",
   "execution_count": 7,
   "metadata": {},
   "outputs": [],
   "source": [
    "# 看樹\n",
    "\n",
    "from sklearn.tree import export_graphviz\n",
    "\n",
    "# out_file = 要不要輸出檔案\n",
    "# feature_names = 標題列\n",
    "# class_names = 目標的名子\n",
    "# filled = 樹要不要填顏色\n",
    "# special_characters = 有些特殊物要不要顯示\n",
    "\n",
    "g = export_graphviz(clf, out_file=None, feature_names=iris[\"feature_names\"],\n",
    "                    class_names=iris[\"target_names\"], filled=True, special_characters=True)\n",
    "\n",
    "import graphviz\n",
    "# graphviz.Source(g)"
   ]
  },
  {
   "cell_type": "code",
   "execution_count": 8,
   "metadata": {},
   "outputs": [
    {
     "name": "stdout",
     "output_type": "stream",
     "text": [
      "機器學習後的結果: [2, 1, 2, 0, 2, 0, 2, 1, 2, 1, 2, 1, 1, 0, 0]\n",
      "現實中真正的結果: [2, 1, 2, 0, 2, 0, 2, 1, 2, 1, 2, 1, 1, 0, 0]\n"
     ]
    }
   ],
   "source": [
    "# 拿 10%驗證資料 去驗證 (b = x_test)\n",
    "# 以(a, c)擬合後，資料驗證用 b\n",
    "\n",
    "pre = clf.predict(b)\n",
    "print(\"機器學習後的結果:\", list(pre))\n",
    "\n",
    "# 現實資料裡真正的結果\n",
    "# d = y_test\n",
    "\n",
    "print(\"現實中真正的結果:\", list(d))"
   ]
  },
  {
   "cell_type": "code",
   "execution_count": 9,
   "metadata": {},
   "outputs": [
    {
     "name": "stdout",
     "output_type": "stream",
     "text": [
      "預測成功率: 1.0\n"
     ]
    }
   ],
   "source": [
    "# 算預測成功的機率\n",
    "# 要先放 (y_test = d) 在放 pre\n",
    "\n",
    "from sklearn.metrics import accuracy_score\n",
    "score = accuracy_score(d, pre)\n",
    "\n",
    "print(\"預測成功率:\", score)"
   ]
  },
  {
   "cell_type": "code",
   "execution_count": 10,
   "metadata": {},
   "outputs": [],
   "source": [
    "# 算預測矩陣\n",
    "# 貼給老闆好看用\n",
    "\n",
    "from sklearn.metrics import confusion_matrix\n",
    "\n",
    "# confusion_matrix 一定要 先 y_test 在 pre\n",
    "\n",
    "# pd.DataFrame(confusion_matrix(d, pre))"
   ]
  }
 ],
 "metadata": {
  "kernelspec": {
   "display_name": "Python 3",
   "language": "python",
   "name": "python3"
  },
  "language_info": {
   "codemirror_mode": {
    "name": "ipython",
    "version": 3
   },
   "file_extension": ".py",
   "mimetype": "text/x-python",
   "name": "python",
   "nbconvert_exporter": "python",
   "pygments_lexer": "ipython3",
   "version": "3.7.7"
  }
 },
 "nbformat": 4,
 "nbformat_minor": 4
}
